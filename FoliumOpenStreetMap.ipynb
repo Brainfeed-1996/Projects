{
  "nbformat": 4,
  "nbformat_minor": 0,
  "metadata": {
    "colab": {
      "provenance": []
    },
    "kernelspec": {
      "name": "python3",
      "display_name": "Python 3"
    },
    "language_info": {
      "name": "python"
    }
  },
  "cells": [
    {
      "cell_type": "code",
      "execution_count": 1,
      "metadata": {
        "id": "qDRe3bYjYhx8"
      },
      "outputs": [],
      "source": [
        "import folium"
      ]
    },
    {
      "cell_type": "code",
      "source": [
        "villes = {\n",
        "    'Bastia': (42.7017, 9.4466),\n",
        "    'Furiani': (42.6585, 9.4151),\n",
        "    'Biguglia': (42.61827, 9.43609),\n",
        "    'Oleta': (42.63032, 9.35527),\n",
        "    \"Poggio-d'Oletta\": (42.6404, 9.3607),\n",
        "    'Barbaggio': (42.68974, 9.37745),\n",
        "    'Patrimono': (42.6968, 9.3619)\n",
        "}"
      ],
      "metadata": {
        "id": "x0HD9AjrrCDx"
      },
      "execution_count": 4,
      "outputs": []
    },
    {
      "cell_type": "code",
      "source": [
        "m = folium.Map(location=[42.7017, 9.4466])"
      ],
      "metadata": {
        "id": "OxWruOBssnf4"
      },
      "execution_count": 8,
      "outputs": []
    },
    {
      "cell_type": "code",
      "source": [
        "for ville, coords in villes.items():\n",
        "  folium.Marker(coords,\n",
        "                popup=f'<b>{ ville }</b><br>{ coords }',\n",
        "                tooltip=ville,\n",
        "                icon=folium.Icon(color=\"red\", icon=\"info-sign\")     \n",
        "                ).add_to(m)"
      ],
      "metadata": {
        "id": "wUSB8cXotGEK"
      },
      "execution_count": 11,
      "outputs": []
    },
    {
      "cell_type": "code",
      "source": [
        "m.save(\"index.html\")"
      ],
      "metadata": {
        "id": "pPaPYlAUspOL"
      },
      "execution_count": 12,
      "outputs": []
    },
    {
      "cell_type": "code",
      "source": [],
      "metadata": {
        "id": "-4RLRswMsq8y"
      },
      "execution_count": null,
      "outputs": []
    }
  ]
}